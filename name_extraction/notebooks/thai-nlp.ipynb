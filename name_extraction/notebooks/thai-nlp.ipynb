{
 "cells": [
  {
   "cell_type": "code",
   "execution_count": 1,
   "metadata": {},
   "outputs": [],
   "source": [
    "import pythainlp\n",
    "import pandas as pd"
   ]
  },
  {
   "cell_type": "code",
   "execution_count": 2,
   "metadata": {},
   "outputs": [],
   "source": [
    "labels = pd.read_excel('../../data/DIE_Train_Label_3Scenario.xlsx')"
   ]
  },
  {
   "cell_type": "code",
   "execution_count": 3,
   "metadata": {},
   "outputs": [
    {
     "data": {
      "text/html": [
       "<div>\n",
       "<style scoped>\n",
       "    .dataframe tbody tr th:only-of-type {\n",
       "        vertical-align: middle;\n",
       "    }\n",
       "\n",
       "    .dataframe tbody tr th {\n",
       "        vertical-align: top;\n",
       "    }\n",
       "\n",
       "    .dataframe thead th {\n",
       "        text-align: right;\n",
       "    }\n",
       "</style>\n",
       "<table border=\"1\" class=\"dataframe\">\n",
       "  <thead>\n",
       "    <tr style=\"text-align: right;\">\n",
       "      <th></th>\n",
       "      <th>Filename</th>\n",
       "      <th>Title (TH)</th>\n",
       "      <th>First name (TH)</th>\n",
       "      <th>Last name (TH)</th>\n",
       "      <th>Title (EN)</th>\n",
       "      <th>First name (EN)</th>\n",
       "      <th>Last name (EN)</th>\n",
       "    </tr>\n",
       "  </thead>\n",
       "  <tbody>\n",
       "    <tr>\n",
       "      <th>0</th>\n",
       "      <td>1</td>\n",
       "      <td>นาย</td>\n",
       "      <td>ประดิษฐ์</td>\n",
       "      <td>แดงรัตน์</td>\n",
       "      <td>Mr.</td>\n",
       "      <td>Pradit</td>\n",
       "      <td>Daengrat</td>\n",
       "    </tr>\n",
       "    <tr>\n",
       "      <th>1</th>\n",
       "      <td>2</td>\n",
       "      <td>น.ส.</td>\n",
       "      <td>ประภาพันธ์</td>\n",
       "      <td>ลีอังกูรเสถียร</td>\n",
       "      <td>Miss</td>\n",
       "      <td>Prapapan</td>\n",
       "      <td>Leeungurastlen</td>\n",
       "    </tr>\n",
       "    <tr>\n",
       "      <th>2</th>\n",
       "      <td>3</td>\n",
       "      <td>นาย</td>\n",
       "      <td>พิเนต</td>\n",
       "      <td>อินทรสมบัติ</td>\n",
       "      <td>Mr.</td>\n",
       "      <td>Phinet</td>\n",
       "      <td>Intharasombat</td>\n",
       "    </tr>\n",
       "    <tr>\n",
       "      <th>3</th>\n",
       "      <td>4</td>\n",
       "      <td>นาย</td>\n",
       "      <td>วรวรรธน์</td>\n",
       "      <td>มนตรีกุล ณ อยุธยา</td>\n",
       "      <td>Mr.</td>\n",
       "      <td>Vorawat</td>\n",
       "      <td>Montrikul Na Ayudhaya</td>\n",
       "    </tr>\n",
       "    <tr>\n",
       "      <th>4</th>\n",
       "      <td>5</td>\n",
       "      <td>นาย</td>\n",
       "      <td>วิรัตน์</td>\n",
       "      <td>ตรงพิทักษ์กุล</td>\n",
       "      <td>Mr.</td>\n",
       "      <td>Virat</td>\n",
       "      <td>Trongpitakkul</td>\n",
       "    </tr>\n",
       "  </tbody>\n",
       "</table>\n",
       "</div>"
      ],
      "text/plain": [
       "   Filename Title (TH) First name (TH)     Last name (TH) Title (EN)  \\\n",
       "0         1        นาย        ประดิษฐ์           แดงรัตน์        Mr.   \n",
       "1         2       น.ส.      ประภาพันธ์     ลีอังกูรเสถียร       Miss   \n",
       "2         3        นาย           พิเนต        อินทรสมบัติ        Mr.   \n",
       "3         4        นาย        วรวรรธน์  มนตรีกุล ณ อยุธยา        Mr.   \n",
       "4         5        นาย         วิรัตน์      ตรงพิทักษ์กุล        Mr.   \n",
       "\n",
       "  First name (EN)         Last name (EN)  \n",
       "0          Pradit               Daengrat  \n",
       "1        Prapapan         Leeungurastlen  \n",
       "2          Phinet          Intharasombat  \n",
       "3         Vorawat  Montrikul Na Ayudhaya  \n",
       "4           Virat          Trongpitakkul  "
      ]
     },
     "execution_count": 3,
     "metadata": {},
     "output_type": "execute_result"
    }
   ],
   "source": [
    "labels.head()"
   ]
  },
  {
   "cell_type": "markdown",
   "metadata": {},
   "source": [
    "## Romanisation"
   ]
  },
  {
   "cell_type": "code",
   "execution_count": 23,
   "metadata": {},
   "outputs": [],
   "source": [
    "from pythainlp.romanization import romanization\n",
    "import tltk"
   ]
  },
  {
   "cell_type": "code",
   "execution_count": 5,
   "metadata": {},
   "outputs": [],
   "source": [
    "thai_fn = list(labels['First name (TH)'].values)\n",
    "eng_fn = list(labels['First name (EN)'].values)\n",
    "firstnames = list(zip(thai_fn, eng_fn))"
   ]
  },
  {
   "cell_type": "code",
   "execution_count": 25,
   "metadata": {},
   "outputs": [
    {
     "name": "stdout",
     "output_type": "stream",
     "text": [
      "Thai                English             Romanised                               \n",
      "ประดิษฐ์            Pradit              pnatit              pradit <s/>         \n",
      "ประภาพันธ์          Prapapan            pnapaphan           pra pha phan <s/>   \n",
      "พิเนต               Phinet              phinet              phinet <s/>         \n",
      "วรวรรธน์            Vorawat             wnuannthon์         won wat <s/>        \n",
      "วิรัตน์             Virat               wirat               wi rat <s/>         \n",
      "รัชตะภาคย์          Ratchatapak         rattaphak           rat ta phak <s/>    \n",
      "รัตน์ติภรณ์         Rattiporn           rattiphonn์         rat ti phon <s/>    \n",
      "ศักดา               Sakda               sakta               sakda <s/>          \n",
      "จงดี                Jonde               chongdi             congdi <s/>         \n",
      "ศราวุฒิ             Sarawut             srawuti             sara wutthi <s/>    \n",
      "เรณู                Renu                renu                renu <s/>           \n",
      "ประภาส              Prapart             pnapat              praphat <s/>        \n",
      "ประภาวฎี            Prapavadee          pnapawti            pra phawa di <s/>   \n",
      "เอกพงศ์สันต์        Aekpongsan          ekphongsan          ek phong san <s/>   \n",
      "นันทวัฒน์           Nantawat            nanthwatn์          nantha wat <s/>     \n",
      "อิทธิพล             Ittipon             ittipn              itthiphon <s/>      \n",
      "เชนิสา              Chenisa             chenisa             che ni sa <s/>      \n",
      "แพรวา               Paenwa              phaenwa             phrae wa <s/>       \n",
      "รัชวิบูลย์          Ratchaviboon        ratwipun            rat wibun <s/>      \n",
      "วารุณี              Warunee             wanuni              waruni <s/>         \n",
      "พอพันธ์             Porpan              phophan             pho phan <s/>       \n",
      "สมศรี               Somsri              somsni              som si <s/>         \n",
      "นิตยา               Nittaya             nitya               nit ya <s/>         \n",
      "อนุวร เหล่าสุวรรณ   Anuworn Laosuwan    nuwon henasuan      anu won <s/>law suwan <s/>\n",
      "กฤตยพร              Kritayaporn         NOT FOUND           anu won <s/>law suwan <s/>\n",
      "เหวียน              Hwean               heoีn               wian <s/>           \n",
      "กชพร กาวิน          Kochaporn Kawin     kotphon kawin       kot phon <s/>ka win <s/>\n",
      "ณัฐพร               Natthaporn          natphon             nattha phon <s/>    \n",
      "โกวิทัตว์           Kovitthad           kowithat            ko wi that <s/>     \n",
      "ปรเมศวร์            Poramet             pnmet               paramet <s/>        \n",
      "ธีระเดช             Thiradech           thinadet            thira det <s/>      \n",
      "อนันต์ชัย           Ananchai            nanchai             anan chai <s/>      \n",
      "อรรจนา              Atjana              rrtna               at na <s/>          \n",
      "วรวิทย์                              nanwrith               won wit <s/>        \n",
      "คงศักดิ์            Khongsak            khongsak            khong sak <s/>      \n",
      "สรีรา               Sareera             srira               si ra <s/>          \n",
      "ปทุมพร              Pathumporn          ptumphon            pathum phon <s/>    \n",
      "ธฤตมน               Tridtamon           NOT FOUND           pathum phon <s/>    \n",
      "แสน                 Saen                saen                saen <s/>           \n",
      "จำนงค์              Chamnong            chamnng             camnong <s/>        \n",
      "ปานศักดิ์           Pansak              pansak              pan sak <s/>        \n",
      "สุคนธ์กิจจานุยุต    Sukonkitjanuyut     suknkittanuyut      sukhon kitca nu yu <s/>\n",
      "ฤทธิ์เดช            Rittidach           NOT FOUND           sukhon kitca nu yu <s/>\n",
      "พลอยไพลิน           Phoiphailin         phnoiphainin        phloi phailin <s/>  \n",
      "ธีรยุทธ             Teerayut            thinyutt            thirayuttha <s/>    \n",
      "ทิพมาศ              Tippamas            thipmat             thip mat <s/>       \n",
      "หมิง ฮุ่ย           Ming Hui            hming hui           ming <s/>hui <s/>   \n",
      "สายัณห์             Sayan               saiัn               sayan <s/>          \n",
      "อาทิตย์             Aathit              atit                athit <s/>          \n",
      "นำชัย 2             Namchai II          namchai 2           nam chai <s/> <s/>  \n",
      "ธนพล                Tanapol             thonphon            thon phon <s/>      \n",
      "มณฑล                Monthon             mntn                monthon <s/>        \n",
      "สุรีย์รัตน์         Sureerut            sunirat             suri rat <s/>       \n",
      "สุณี                Sunee               suni                su ni <s/>          \n",
      "นิตยา               Nittaya             nitya               nit ya <s/>         \n",
      "อานา                Ana Marie           ana                 a na <s/>           \n",
      "จันทนา              Janthana            chanthna            canthana <s/>       \n",
      "พิศมัย              Phidsamai           phitmai             phit mai <s/>       \n",
      "วิชญาภรณ์ เอมราช    Vitchayaporn Emarachwichyaphonn์ emrat  wit ya phon <s/>em rat <s/>\n"
     ]
    },
    {
     "ename": "ValueError",
     "evalue": "too many values to unpack (expected 2)",
     "output_type": "error",
     "traceback": [
      "\u001b[0;31m---------------------------------------------------------------------------\u001b[0m",
      "\u001b[0;31mValueError\u001b[0m                                Traceback (most recent call last)",
      "\u001b[0;32m<ipython-input-25-da11fc29955e>\u001b[0m in \u001b[0;36m<module>\u001b[0;34m()\u001b[0m\n\u001b[1;32m      7\u001b[0m     \u001b[0;32mtry\u001b[0m\u001b[0;34m:\u001b[0m\u001b[0;34m\u001b[0m\u001b[0m\n\u001b[1;32m      8\u001b[0m         \u001b[0mrom\u001b[0m \u001b[0;34m=\u001b[0m \u001b[0mromanization\u001b[0m\u001b[0;34m(\u001b[0m\u001b[0mtha\u001b[0m\u001b[0;34m,\u001b[0m \u001b[0mengine\u001b[0m\u001b[0;34m=\u001b[0m\u001b[0mengine\u001b[0m\u001b[0;34m)\u001b[0m\u001b[0;34m\u001b[0m\u001b[0m\n\u001b[0;32m----> 9\u001b[0;31m         \u001b[0mrom2\u001b[0m \u001b[0;34m=\u001b[0m \u001b[0mtltk\u001b[0m\u001b[0;34m.\u001b[0m\u001b[0mnlp\u001b[0m\u001b[0;34m.\u001b[0m\u001b[0mth2roman\u001b[0m\u001b[0;34m(\u001b[0m\u001b[0mtha\u001b[0m\u001b[0;34m)\u001b[0m\u001b[0;34m\u001b[0m\u001b[0m\n\u001b[0m\u001b[1;32m     10\u001b[0m     \u001b[0;32mexcept\u001b[0m \u001b[0mKeyError\u001b[0m\u001b[0;34m:\u001b[0m\u001b[0;34m\u001b[0m\u001b[0m\n\u001b[1;32m     11\u001b[0m         \u001b[0mrom\u001b[0m \u001b[0;34m=\u001b[0m \u001b[0;34m'NOT FOUND'\u001b[0m\u001b[0;34m\u001b[0m\u001b[0m\n",
      "\u001b[0;32m~/anaconda3/envs/dathena/lib/python3.6/site-packages/tltk/nlp.py\u001b[0m in \u001b[0;36mth2roman\u001b[0;34m(txt)\u001b[0m\n\u001b[1;32m    993\u001b[0m     \u001b[0;32mfor\u001b[0m \u001b[0mseg\u001b[0m \u001b[0;32min\u001b[0m \u001b[0minx\u001b[0m\u001b[0;34m.\u001b[0m\u001b[0msplit\u001b[0m\u001b[0;34m(\u001b[0m\u001b[0;34m'<s/>'\u001b[0m\u001b[0;34m)\u001b[0m\u001b[0;34m:\u001b[0m\u001b[0;34m\u001b[0m\u001b[0m\n\u001b[1;32m    994\u001b[0m         \u001b[0;32mif\u001b[0m \u001b[0mseg\u001b[0m \u001b[0;34m==\u001b[0m \u001b[0;34m''\u001b[0m\u001b[0;34m:\u001b[0m \u001b[0;32mcontinue\u001b[0m\u001b[0;34m\u001b[0m\u001b[0m\n\u001b[0;32m--> 995\u001b[0;31m         \u001b[0;34m(\u001b[0m\u001b[0mth\u001b[0m\u001b[0;34m,\u001b[0m \u001b[0mtran\u001b[0m\u001b[0;34m)\u001b[0m \u001b[0;34m=\u001b[0m \u001b[0mseg\u001b[0m\u001b[0;34m.\u001b[0m\u001b[0msplit\u001b[0m\u001b[0;34m(\u001b[0m\u001b[0;34m'<tr/>'\u001b[0m\u001b[0;34m)\u001b[0m\u001b[0;34m\u001b[0m\u001b[0m\n\u001b[0m\u001b[1;32m    996\u001b[0m         \u001b[0mtran\u001b[0m \u001b[0;34m=\u001b[0m \u001b[0mre\u001b[0m\u001b[0;34m.\u001b[0m\u001b[0msub\u001b[0m\u001b[0;34m(\u001b[0m\u001b[0;34mr\"([aeiouUxO@])\\1\"\u001b[0m\u001b[0;34m,\u001b[0m\u001b[0;34mr\"\\1\"\u001b[0m\u001b[0;34m,\u001b[0m\u001b[0mtran\u001b[0m\u001b[0;34m)\u001b[0m\u001b[0;34m\u001b[0m\u001b[0m\n\u001b[1;32m    997\u001b[0m         \u001b[0mtran\u001b[0m \u001b[0;34m=\u001b[0m \u001b[0mre\u001b[0m\u001b[0;34m.\u001b[0m\u001b[0msub\u001b[0m\u001b[0;34m(\u001b[0m\u001b[0;34mr\"[0-9]\"\u001b[0m\u001b[0;34m,\u001b[0m\u001b[0;34mr\"\"\u001b[0m\u001b[0;34m,\u001b[0m\u001b[0mtran\u001b[0m\u001b[0;34m)\u001b[0m\u001b[0;34m\u001b[0m\u001b[0m\n",
      "\u001b[0;31mValueError\u001b[0m: too many values to unpack (expected 2)"
     ]
    }
   ],
   "source": [
    "f = '{:20}{:20}{:20}{:20}'\n",
    "print(f.format('Thai', 'English', 'Romanised', ''))\n",
    "\n",
    "for tha, eng in firstnames:\n",
    "    engine = 'royin'\n",
    "    #engine = 'pyicu'\n",
    "    try:\n",
    "        rom = romanization(tha, engine=engine)\n",
    "        rom2 = tltk.nlp.th2roman(tha)\n",
    "    except KeyError:\n",
    "        rom = 'NOT FOUND'\n",
    "        \n",
    "    print(f.format(tha, eng, rom, rom2))"
   ]
  },
  {
   "cell_type": "code",
   "execution_count": null,
   "metadata": {},
   "outputs": [],
   "source": [
    "import icu"
   ]
  },
  {
   "cell_type": "markdown",
   "metadata": {},
   "source": [
    "## Spell checker"
   ]
  },
  {
   "cell_type": "code",
   "execution_count": 18,
   "metadata": {},
   "outputs": [],
   "source": [
    "from pythainlp.spell.pn import correction\n",
    "from pythainlp import spell"
   ]
  },
  {
   "cell_type": "code",
   "execution_count": 36,
   "metadata": {},
   "outputs": [
    {
     "name": "stdout",
     "output_type": "stream",
     "text": [
      "ประดิษฐ์\n",
      "['ประดิษฐ์']\n",
      "['ประดิษฐ์']\n"
     ]
    }
   ],
   "source": [
    "w = 'ประดิษฐ์'\n",
    "print(correction(w))\n",
    "print(spell(w))\n",
    "print(tltk.nlp.spell_candidates(w))"
   ]
  },
  {
   "cell_type": "code",
   "execution_count": 37,
   "metadata": {},
   "outputs": [],
   "source": [
    "c = 0\n",
    "for tha, eng in firstnames:\n",
    "    corr = correction(tha)\n",
    "    if tha != corr:\n",
    "        c += 1"
   ]
  },
  {
   "cell_type": "code",
   "execution_count": 38,
   "metadata": {},
   "outputs": [
    {
     "data": {
      "text/plain": [
       "75"
      ]
     },
     "execution_count": 38,
     "metadata": {},
     "output_type": "execute_result"
    }
   ],
   "source": [
    "c"
   ]
  },
  {
   "cell_type": "code",
   "execution_count": 39,
   "metadata": {},
   "outputs": [
    {
     "data": {
      "text/plain": [
       "0.375"
      ]
     },
     "execution_count": 39,
     "metadata": {},
     "output_type": "execute_result"
    }
   ],
   "source": [
    "c / len(firstnames)"
   ]
  },
  {
   "cell_type": "code",
   "execution_count": null,
   "metadata": {},
   "outputs": [],
   "source": []
  },
  {
   "cell_type": "code",
   "execution_count": 21,
   "metadata": {},
   "outputs": [
    {
     "ename": "ImportError",
     "evalue": "cannot import name 'spell'",
     "output_type": "error",
     "traceback": [
      "\u001b[0;31m---------------------------------------------------------------------------\u001b[0m",
      "\u001b[0;31mImportError\u001b[0m                               Traceback (most recent call last)",
      "\u001b[0;32m<ipython-input-21-e88cf0959842>\u001b[0m in \u001b[0;36m<module>\u001b[0;34m()\u001b[0m\n\u001b[0;32m----> 1\u001b[0;31m \u001b[0mspell\u001b[0m\u001b[0;34m(\u001b[0m\u001b[0mw\u001b[0m\u001b[0;34m,\u001b[0m \u001b[0mengine\u001b[0m\u001b[0;34m=\u001b[0m\u001b[0;34m'hunspell'\u001b[0m\u001b[0;34m)\u001b[0m\u001b[0;34m\u001b[0m\u001b[0m\n\u001b[0m",
      "\u001b[0;32m~/anaconda3/envs/dathena/lib/python3.6/site-packages/pythainlp/spell/__init__.py\u001b[0m in \u001b[0;36mspell\u001b[0;34m(word, engine)\u001b[0m\n\u001b[1;32m     11\u001b[0m         \u001b[0;32mfrom\u001b[0m \u001b[0;34m.\u001b[0m\u001b[0mpn\u001b[0m \u001b[0;32mimport\u001b[0m \u001b[0mspell\u001b[0m \u001b[0;32mas\u001b[0m \u001b[0mspell1\u001b[0m\u001b[0;34m\u001b[0m\u001b[0m\n\u001b[1;32m     12\u001b[0m     \u001b[0;32melif\u001b[0m \u001b[0mengine\u001b[0m\u001b[0;34m==\u001b[0m\u001b[0;34m'hunspell'\u001b[0m\u001b[0;34m:\u001b[0m\u001b[0;34m\u001b[0m\u001b[0m\n\u001b[0;32m---> 13\u001b[0;31m         \u001b[0;32mfrom\u001b[0m \u001b[0;34m.\u001b[0m\u001b[0mhunspell\u001b[0m \u001b[0;32mimport\u001b[0m \u001b[0mspell\u001b[0m \u001b[0;32mas\u001b[0m \u001b[0mspell1\u001b[0m\u001b[0;34m\u001b[0m\u001b[0m\n\u001b[0m\u001b[1;32m     14\u001b[0m     \u001b[0;32mreturn\u001b[0m \u001b[0mspell1\u001b[0m\u001b[0;34m(\u001b[0m\u001b[0mword\u001b[0m\u001b[0;34m)\u001b[0m\u001b[0;34m\u001b[0m\u001b[0m\n",
      "\u001b[0;31mImportError\u001b[0m: cannot import name 'spell'"
     ]
    }
   ],
   "source": [
    "spell(w, engine='hunspell')"
   ]
  },
  {
   "cell_type": "code",
   "execution_count": 32,
   "metadata": {},
   "outputs": [],
   "source": [
    "from hunspell import Hunspell\n",
    "h = Hunspell()"
   ]
  },
  {
   "cell_type": "code",
   "execution_count": 33,
   "metadata": {},
   "outputs": [
    {
     "ename": "UnicodeEncodeError",
     "evalue": "'latin-1' codec can't encode characters in position 0-5: ordinal not in range(256)",
     "output_type": "error",
     "traceback": [
      "\u001b[0;31m---------------------------------------------------------------------------\u001b[0m",
      "\u001b[0;31mUnicodeEncodeError\u001b[0m                        Traceback (most recent call last)",
      "\u001b[0;32m<ipython-input-33-ac4d243019c6>\u001b[0m in \u001b[0;36m<module>\u001b[0;34m()\u001b[0m\n\u001b[0;32m----> 1\u001b[0;31m \u001b[0mh\u001b[0m\u001b[0;34m.\u001b[0m\u001b[0mspell\u001b[0m\u001b[0;34m(\u001b[0m\u001b[0mw\u001b[0m\u001b[0;34m)\u001b[0m\u001b[0;34m\u001b[0m\u001b[0m\n\u001b[0m",
      "\u001b[0;32m~/anaconda3/envs/dathena/lib/python3.6/site-packages/hunspell/hunspell.pyx\u001b[0m in \u001b[0;36mhunspell.hunspell.HunspellWrap.spell\u001b[0;34m()\u001b[0m\n",
      "\u001b[0;32m~/anaconda3/envs/dathena/lib/python3.6/site-packages/hunspell/hunspell.pyx\u001b[0m in \u001b[0;36mhunspell.hunspell.copy_to_c_string\u001b[0;34m()\u001b[0m\n",
      "\u001b[0;31mUnicodeEncodeError\u001b[0m: 'latin-1' codec can't encode characters in position 0-5: ordinal not in range(256)"
     ]
    }
   ],
   "source": [
    "h.spell(w)"
   ]
  },
  {
   "cell_type": "code",
   "execution_count": 34,
   "metadata": {},
   "outputs": [
    {
     "ename": "UnicodeEncodeError",
     "evalue": "'latin-1' codec can't encode characters in position 0-5: ordinal not in range(256)",
     "output_type": "error",
     "traceback": [
      "\u001b[0;31m---------------------------------------------------------------------------\u001b[0m",
      "\u001b[0;31mUnicodeEncodeError\u001b[0m                        Traceback (most recent call last)",
      "\u001b[0;32m<ipython-input-34-fc3d4ddf615c>\u001b[0m in \u001b[0;36m<module>\u001b[0;34m()\u001b[0m\n\u001b[0;32m----> 1\u001b[0;31m \u001b[0mh\u001b[0m\u001b[0;34m.\u001b[0m\u001b[0msuggest\u001b[0m\u001b[0;34m(\u001b[0m\u001b[0mw\u001b[0m\u001b[0;34m)\u001b[0m\u001b[0;34m\u001b[0m\u001b[0m\n\u001b[0m",
      "\u001b[0;32m~/anaconda3/envs/dathena/lib/python3.6/site-packages/hunspell/hunspell.pyx\u001b[0m in \u001b[0;36mhunspell.hunspell.HunspellWrap.suggest\u001b[0;34m()\u001b[0m\n",
      "\u001b[0;32m~/anaconda3/envs/dathena/lib/python3.6/site-packages/hunspell/hunspell.pyx\u001b[0m in \u001b[0;36mhunspell.hunspell.HunspellWrap.action\u001b[0;34m()\u001b[0m\n",
      "\u001b[0;32m~/anaconda3/envs/dathena/lib/python3.6/site-packages/hunspell/hunspell.pyx\u001b[0m in \u001b[0;36mhunspell.hunspell.copy_to_c_string\u001b[0;34m()\u001b[0m\n",
      "\u001b[0;31mUnicodeEncodeError\u001b[0m: 'latin-1' codec can't encode characters in position 0-5: ordinal not in range(256)"
     ]
    }
   ],
   "source": [
    "h.suggest(w)"
   ]
  },
  {
   "cell_type": "code",
   "execution_count": null,
   "metadata": {},
   "outputs": [],
   "source": []
  },
  {
   "cell_type": "code",
   "execution_count": null,
   "metadata": {},
   "outputs": [],
   "source": []
  },
  {
   "cell_type": "code",
   "execution_count": null,
   "metadata": {},
   "outputs": [],
   "source": []
  }
 ],
 "metadata": {
  "kernelspec": {
   "display_name": "Python 3",
   "language": "python",
   "name": "python3"
  },
  "language_info": {
   "codemirror_mode": {
    "name": "ipython",
    "version": 3
   },
   "file_extension": ".py",
   "mimetype": "text/x-python",
   "name": "python",
   "nbconvert_exporter": "python",
   "pygments_lexer": "ipython3",
   "version": "3.6.4"
  }
 },
 "nbformat": 4,
 "nbformat_minor": 2
}
