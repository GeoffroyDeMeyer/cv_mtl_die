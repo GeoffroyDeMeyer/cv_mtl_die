{
 "cells": [
  {
   "cell_type": "markdown",
   "metadata": {},
   "source": [
    "# LSTM Thai"
   ]
  },
  {
   "cell_type": "code",
   "execution_count": 10,
   "metadata": {},
   "outputs": [],
   "source": [
    "from PIL import Image\n",
    "\n",
    "import pytesseract\n",
    "\n",
    "import matplotlib.pyplot as plt"
   ]
  },
  {
   "cell_type": "code",
   "execution_count": 64,
   "metadata": {},
   "outputs": [],
   "source": [
    "FILEPATH = '../../data/cropped_v2/name/{:0=3d}_cropped_rot_name_tha.TIFF'\n",
    "PIC_ID = 4"
   ]
  },
  {
   "cell_type": "code",
   "execution_count": 65,
   "metadata": {},
   "outputs": [],
   "source": [
    "img = Image.open(FILEPATH.format(PIC_ID))"
   ]
  },
  {
   "cell_type": "code",
   "execution_count": 66,
   "metadata": {},
   "outputs": [
    {
     "data": {
      "image/png": "[encoded data removed]",
      "text/plain": [
       "<PIL.TiffImagePlugin.TiffImageFile image mode=L size=447x44 at 0x1202D8B00>"
      ]
     },
     "execution_count": 66,
     "metadata": {},
     "output_type": "execute_result"
    }
   ],
   "source": [
    "img"
   ]
  },
  {
   "cell_type": "code",
   "execution_count": 72,
   "metadata": {},
   "outputs": [
    {
     "name": "stderr",
     "output_type": "stream",
     "text": [
      "/Users/paulnicolet/anaconda3/envs/dathena/lib/python3.6/site-packages/PIL/TiffImagePlugin.py:569: UserWarning: Metadata Warning, tag 282 had too many entries: 2, expected 1\n",
      "  tag, len(values)))\n",
      "/Users/paulnicolet/anaconda3/envs/dathena/lib/python3.6/site-packages/PIL/TiffImagePlugin.py:569: UserWarning: Metadata Warning, tag 283 had too many entries: 2, expected 1\n",
      "  tag, len(values)))\n",
      "/Users/paulnicolet/anaconda3/envs/dathena/lib/python3.6/site-packages/PIL/TiffImagePlugin.py:569: UserWarning: Metadata Warning, tag 282 had too many entries: 2, expected 1\n",
      "  tag, len(values)))\n",
      "/Users/paulnicolet/anaconda3/envs/dathena/lib/python3.6/site-packages/PIL/TiffImagePlugin.py:569: UserWarning: Metadata Warning, tag 283 had too many entries: 2, expected 1\n",
      "  tag, len(values)))\n",
      "/Users/paulnicolet/anaconda3/envs/dathena/lib/python3.6/site-packages/PIL/TiffImagePlugin.py:569: UserWarning: Metadata Warning, tag 282 had too many entries: 2, expected 1\n",
      "  tag, len(values)))\n",
      "/Users/paulnicolet/anaconda3/envs/dathena/lib/python3.6/site-packages/PIL/TiffImagePlugin.py:569: UserWarning: Metadata Warning, tag 283 had too many entries: 2, expected 1\n",
      "  tag, len(values)))\n",
      "/Users/paulnicolet/anaconda3/envs/dathena/lib/python3.6/site-packages/PIL/TiffImagePlugin.py:569: UserWarning: Metadata Warning, tag 282 had too many entries: 2, expected 1\n",
      "  tag, len(values)))\n",
      "/Users/paulnicolet/anaconda3/envs/dathena/lib/python3.6/site-packages/PIL/TiffImagePlugin.py:569: UserWarning: Metadata Warning, tag 283 had too many entries: 2, expected 1\n",
      "  tag, len(values)))\n",
      "/Users/paulnicolet/anaconda3/envs/dathena/lib/python3.6/site-packages/PIL/TiffImagePlugin.py:569: UserWarning: Metadata Warning, tag 282 had too many entries: 2, expected 1\n",
      "  tag, len(values)))\n",
      "/Users/paulnicolet/anaconda3/envs/dathena/lib/python3.6/site-packages/PIL/TiffImagePlugin.py:569: UserWarning: Metadata Warning, tag 283 had too many entries: 2, expected 1\n",
      "  tag, len(values)))\n",
      "/Users/paulnicolet/anaconda3/envs/dathena/lib/python3.6/site-packages/PIL/TiffImagePlugin.py:569: UserWarning: Metadata Warning, tag 282 had too many entries: 2, expected 1\n",
      "  tag, len(values)))\n",
      "/Users/paulnicolet/anaconda3/envs/dathena/lib/python3.6/site-packages/PIL/TiffImagePlugin.py:569: UserWarning: Metadata Warning, tag 283 had too many entries: 2, expected 1\n",
      "  tag, len(values)))\n",
      "/Users/paulnicolet/anaconda3/envs/dathena/lib/python3.6/site-packages/PIL/TiffImagePlugin.py:569: UserWarning: Metadata Warning, tag 282 had too many entries: 2, expected 1\n",
      "  tag, len(values)))\n",
      "/Users/paulnicolet/anaconda3/envs/dathena/lib/python3.6/site-packages/PIL/TiffImagePlugin.py:569: UserWarning: Metadata Warning, tag 283 had too many entries: 2, expected 1\n",
      "  tag, len(values)))\n",
      "/Users/paulnicolet/anaconda3/envs/dathena/lib/python3.6/site-packages/PIL/TiffImagePlugin.py:569: UserWarning: Metadata Warning, tag 282 had too many entries: 2, expected 1\n",
      "  tag, len(values)))\n",
      "/Users/paulnicolet/anaconda3/envs/dathena/lib/python3.6/site-packages/PIL/TiffImagePlugin.py:569: UserWarning: Metadata Warning, tag 283 had too many entries: 2, expected 1\n",
      "  tag, len(values)))\n",
      "/Users/paulnicolet/anaconda3/envs/dathena/lib/python3.6/site-packages/PIL/TiffImagePlugin.py:569: UserWarning: Metadata Warning, tag 282 had too many entries: 2, expected 1\n",
      "  tag, len(values)))\n",
      "/Users/paulnicolet/anaconda3/envs/dathena/lib/python3.6/site-packages/PIL/TiffImagePlugin.py:569: UserWarning: Metadata Warning, tag 283 had too many entries: 2, expected 1\n",
      "  tag, len(values)))\n",
      "/Users/paulnicolet/anaconda3/envs/dathena/lib/python3.6/site-packages/PIL/TiffImagePlugin.py:569: UserWarning: Metadata Warning, tag 282 had too many entries: 2, expected 1\n",
      "  tag, len(values)))\n",
      "/Users/paulnicolet/anaconda3/envs/dathena/lib/python3.6/site-packages/PIL/TiffImagePlugin.py:569: UserWarning: Metadata Warning, tag 283 had too many entries: 2, expected 1\n",
      "  tag, len(values)))\n",
      "/Users/paulnicolet/anaconda3/envs/dathena/lib/python3.6/site-packages/PIL/TiffImagePlugin.py:569: UserWarning: Metadata Warning, tag 282 had too many entries: 2, expected 1\n",
      "  tag, len(values)))\n",
      "/Users/paulnicolet/anaconda3/envs/dathena/lib/python3.6/site-packages/PIL/TiffImagePlugin.py:569: UserWarning: Metadata Warning, tag 283 had too many entries: 2, expected 1\n",
      "  tag, len(values)))\n",
      "/Users/paulnicolet/anaconda3/envs/dathena/lib/python3.6/site-packages/PIL/TiffImagePlugin.py:569: UserWarning: Metadata Warning, tag 282 had too many entries: 2, expected 1\n",
      "  tag, len(values)))\n",
      "/Users/paulnicolet/anaconda3/envs/dathena/lib/python3.6/site-packages/PIL/TiffImagePlugin.py:569: UserWarning: Metadata Warning, tag 283 had too many entries: 2, expected 1\n",
      "  tag, len(values)))\n",
      "/Users/paulnicolet/anaconda3/envs/dathena/lib/python3.6/site-packages/PIL/TiffImagePlugin.py:569: UserWarning: Metadata Warning, tag 282 had too many entries: 2, expected 1\n",
      "  tag, len(values)))\n",
      "/Users/paulnicolet/anaconda3/envs/dathena/lib/python3.6/site-packages/PIL/TiffImagePlugin.py:569: UserWarning: Metadata Warning, tag 283 had too many entries: 2, expected 1\n",
      "  tag, len(values)))\n"
     ]
    }
   ],
   "source": [
    "THA_CONFIG_LSTM = '--oem 1 --psm {} -c preserve_interword_spaces=1'\n",
    "\n",
    "res = {}\n",
    "for i in range(13):\n",
    "    try:\n",
    "        res[i] = pytesseract.image_to_string(img, 'tha', config=THA_CONFIG_LSTM.format(i))\n",
    "    except:\n",
    "        pass"
   ]
  },
  {
   "cell_type": "code",
   "execution_count": 73,
   "metadata": {},
   "outputs": [
    {
     "data": {
      "text/plain": [
       "{1: '!ย วรวรรธนี้ มนตรีกล ณ อ่ยุธยา',\n",
       " 3: '!ย วรวรรธนี้ มนตรีกล ณ อ่ยุธยา',\n",
       " 4: '!ย วรวรรธนี้ มนตรีกล ณ อ่ยุธยา',\n",
       " 5: '๓\\n50\\nจ5\\n.ค์\\n(๕.\\nธ\\n08\\n[5\\nฐิ\\nเ\\n0จ\\nถ8\\nปั0\\nฉจ\\n50',\n",
       " 6: '!ย วรวรรธนี้ มนตรีกล ณ อ่ยุธยา',\n",
       " 7: '!ย วรวรรธนี้ มนตรีกล ณ อ่ยุธยา',\n",
       " 8: '!ย วรวรรธนี้ มนตรีกล ณ อัยธยา',\n",
       " 9: '2',\n",
       " 10: '!ย วรวรรธนี้ มนตรีกล ณ อ่ยุธยา',\n",
       " 11: '!ย วรวรรธนี้ มนตรีกล ณ อ่ยุธยา',\n",
       " 12: '!ย วรวรรธนี้ มนตรีกล ณ อ่ยุธยา'}"
      ]
     },
     "execution_count": 73,
     "metadata": {},
     "output_type": "execute_result"
    }
   ],
   "source": [
    "res"
   ]
  }
 ],
 "metadata": {
  "kernelspec": {
   "display_name": "Python 3",
   "language": "python",
   "name": "python3"
  },
  "language_info": {
   "codemirror_mode": {
    "name": "ipython",
    "version": 3
   },
   "file_extension": ".py",
   "mimetype": "text/x-python",
   "name": "python",
   "nbconvert_exporter": "python",
   "pygments_lexer": "ipython3",
   "version": "3.6.4"
  }
 },
 "nbformat": 4,
 "nbformat_minor": 2
}
