{
 "cells": [
  {
   "cell_type": "code",
   "execution_count": 1,
   "metadata": {},
   "outputs": [],
   "source": [
    "from PIL import Image\n",
    "\n",
    "from os import listdir\n",
    "from os.path import isfile, join\n"
   ]
  },
  {
   "cell_type": "code",
   "execution_count": 2,
   "metadata": {},
   "outputs": [],
   "source": [
    "\n",
    "def  bd_extractor(input_path, output_path, bd_ratio, area_type):\n",
    "    \"\"\"Crop date of birth from rotated image\"\"\"\n",
    "    \n",
    "    # read image\n",
    "    rotated_img = Image.open(input_path)\n",
    "    \n",
    "    # get the size\n",
    "    (w, h) = rotated_img.size    \n",
    "    # get the area for cropping\n",
    "    area =  (w*bd_ratio[0]/100.0, h*bd_ratio[1]/100.0,w*bd_ratio[2]/100.0,h*bd_ratio[3]/100.0)\n",
    " \n",
    "     # crop image\n",
    "    cropped_img =rotated_img.crop(area)    \n",
    "     # save\n",
    "    cropped_img.save(output_path.split('.')[0]+\"{}\".format(area_type) + '.TIFF')\n",
    "    \n",
    "    return cropped_img"
   ]
  },
  {
   "cell_type": "code",
   "execution_count": 6,
   "metadata": {},
   "outputs": [],
   "source": [
    "\n",
    "def  area_cropping(rotated_image, area_ratio, area_type):\n",
    "    \"\"\"Crop date of birth from rotated image\"\"\"\n",
    "    \n",
    "    # get the size\n",
    "    (w, h) = rotated_img.size    \n",
    "    # get the area for cropping\n",
    "    area =  (w*area_ratio[0]/100.0, h*area_ratio[1]/100.0,w*area_ratio[2]/100.0,h*area_ratio[3]/100.0)\n",
    " \n",
    "     # crop image\n",
    "    cropped_img =rotated_img.crop(area)    \n",
    "     # save\n",
    "    return cropped_img"
   ]
  },
  {
   "cell_type": "code",
   "execution_count": 3,
   "metadata": {},
   "outputs": [],
   "source": [
    "# define the ratio for each field\n",
    "date_area_ratio=dict()\n",
    "name_area_ratio=dict()\n",
    "address_area_ratio=dict()\n",
    "\n",
    "date_area_ratio[\"bd_eng\"] = (30.86, 50.48, 70.0, 57.16)\n",
    "date_area_ratio[\"bd_tha\"] = (30.86, 42.85, 64.0, 51.5)\n",
    "\n",
    "date_area_ratio[\"ed_eng\"] = (30.86, 50.48, 70.0, 57.16)\n",
    "date_area_ratio[\"ed_tha\"] = (51.8, 88.06, 70.75, 93.5)\n",
    "\n",
    "name_area_ratio[\"name_tha\"] =(8.5, 18.06, 92.75, 28.5)\n",
    "name_area_ratio[\"name_eng\"] =(27.5, 27.06, 90.75, 35.5)\n",
    "name_area_ratio[\"last_name_eng\"] =(27.5, 36.06, 80.75, 43.5)\n",
    "\n",
    "address_area_ratio[\"address_l1\"] =(8.0, 62.06, 68.75, 71.5)\n",
    "address_area_ratio[\"address_l2\"] =(8.0, 70.6, 58.75, 78.5)"
   ]
  },
  {
   "cell_type": "code",
   "execution_count": 4,
   "metadata": {},
   "outputs": [],
   "source": [
    "scenario = [\"name\", \"date\", \"address\"]\n",
    "ratated_img_path = '/home/tania/Thai_id/rotated_cropped/'\n",
    "cropped_BD_path = '/home/tania/Thai_id/cropped/'"
   ]
  },
  {
   "cell_type": "code",
   "execution_count": 5,
   "metadata": {},
   "outputs": [],
   "source": [
    "if __name__ == \"__main__\":\n",
    "    # iterate through scenario\n",
    "    for s in scenario:\n",
    "            # list the folder with images\n",
    "            onlyfiles = [f for f in listdir(ratated_img_path+s+\"/\") if isfile(join(ratated_img_path+s+\"/\", f))]\n",
    "            # iterate through images\n",
    "            if s == \"name\":\n",
    "                for i in range(len(onlyfiles)):\n",
    "                    # iterate through areas                \n",
    "                    for k,v in name_area_ratio.items():\n",
    "                        bd_extractor(ratated_img_path+s+\"/\"+onlyfiles[i],cropped_BD_path+s+\"/\"+onlyfiles[i], v, k)\n",
    "            elif s == \"date\":\n",
    "                for i in range(len(onlyfiles)):\n",
    "                    # iterate through areas                \n",
    "                    for k,v in date_area_ratio.items():\n",
    "                        bd_extractor(ratated_img_path+s+\"/\"+onlyfiles[i],cropped_BD_path+s+\"/\"+onlyfiles[i], v, k)\n",
    "            else:\n",
    "                for i in range(len(onlyfiles)):\n",
    "                    # iterate through areas                \n",
    "                    for k,v in address_area_ratio.items():\n",
    "                        bd_extractor(ratated_img_path+s+\"/\"+onlyfiles[i],cropped_BD_path+s+\"/\"+onlyfiles[i], v, k)"
   ]
  },
  {
   "cell_type": "code",
   "execution_count": null,
   "metadata": {},
   "outputs": [],
   "source": []
  }
 ],
 "metadata": {
  "kernelspec": {
   "display_name": "Python 3",
   "language": "python",
   "name": "python3"
  },
  "language_info": {
   "codemirror_mode": {
    "name": "ipython",
    "version": 3
   },
   "file_extension": ".py",
   "mimetype": "text/x-python",
   "name": "python",
   "nbconvert_exporter": "python",
   "pygments_lexer": "ipython3",
   "version": "3.5.5"
  }
 },
 "nbformat": 4,
 "nbformat_minor": 2
}
